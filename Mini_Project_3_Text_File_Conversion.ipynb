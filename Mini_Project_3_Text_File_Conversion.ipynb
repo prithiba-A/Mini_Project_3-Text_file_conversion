{
  "nbformat": 4,
  "nbformat_minor": 0,
  "metadata": {
    "colab": {
      "provenance": [],
      "authorship_tag": "ABX9TyNSjA3g80bjhZUoNrP1oFTC",
      "include_colab_link": true
    },
    "kernelspec": {
      "name": "python3",
      "display_name": "Python 3"
    },
    "language_info": {
      "name": "python"
    }
  },
  "cells": [
    {
      "cell_type": "markdown",
      "metadata": {
        "id": "view-in-github",
        "colab_type": "text"
      },
      "source": [
        "<a href=\"https://colab.research.google.com/github/prithiba-A/Mini_Project_3-Text_file_conversion/blob/main/Mini_Project_3_Text_File_Conversion.ipynb\" target=\"_parent\"><img src=\"https://colab.research.google.com/assets/colab-badge.svg\" alt=\"Open In Colab\"/></a>"
      ]
    },
    {
      "cell_type": "markdown",
      "source": [
        "**Mini_project_3-Text File Conversion**"
      ],
      "metadata": {
        "id": "LqgNvOs-gQ_8"
      }
    },
    {
      "cell_type": "code",
      "execution_count": 1,
      "metadata": {
        "colab": {
          "base_uri": "https://localhost:8080/"
        },
        "id": "nruY2587gHnR",
        "outputId": "5abe5fa7-5376-43d0-ce39-a9e37ba81803"
      },
      "outputs": [
        {
          "output_type": "stream",
          "name": "stdout",
          "text": [
            "File Size\t|\t    C   \t   C++   \t   Java   \t   R   \t   Python   \n",
            "-----------------------------------------------------------------------\n",
            "200MB\t|\t1.0748050212860107\t\t1.6147515773773193\t\t2.4551422595977783\t\t1.181790828704834\t\t1.3485546112060547\n",
            "400MB\t|\t6.360671043395996\t\t5.417834281921387\t\t3.017561435699463\t\t2.9956367015838623\t\t2.6210148334503174\n",
            "600MB\t|\t5.083293914794922\t\t7.131154298782349\t\t5.871220588684082\t\t4.304800748825073\t\t9.51278805732727\n",
            "800MB\t|\t6.438833951950073\t\t6.791736602783203\t\t5.937560558319092\t\t7.265050411224365\t\t6.406821966171265\n",
            "1000MB\t|\t7.94692325592041\t\t9.68991494178772\t\t15.348618030548096\t\t7.661725044250488\t\t7.600541591644287\n"
          ]
        }
      ],
      "source": [
        "\n",
        "import time as t\n",
        "import matplotlib.pyplot as plt\n",
        "\n",
        "file_sizes = [200, 400, 600, 800, 1000]  # Sizes of text files in MB\n",
        "\n",
        "def convert_to_uppercase(file_path):\n",
        "  fp = open(file_path,'r')\n",
        "  content = fp.read().upper()\n",
        "  fp.close()\n",
        "\n",
        "  fp = open(file_path,'w')\n",
        "  fp.write(content)\n",
        "  fp.close()\n",
        "\n",
        "def measure_execution_time(file_size):\n",
        "  file_path = f\"input_{file_size}MB.txt\"\n",
        "  fp = open(file_path,'w')\n",
        "  # Generate sample content of given file size\n",
        "  content = \"a\" * (file_size * 1024 * 1024)\n",
        "  fp.write(content)\n",
        "  fp.close()\n",
        "\n",
        "  start_time = t.time()\n",
        "  convert_to_uppercase(file_path)\n",
        "  end_time = t.time()\n",
        "  execution_time = end_time - start_time\n",
        "\n",
        "  return execution_time\n",
        "\n",
        "# Measure execution time for each file size\n",
        "languages = [\"    C   \", \"   C++   \", \"   Java   \", \"   R   \", \"   Python   \" ]\n",
        "\n",
        "print(\"File Size\\t|\\t\" + \"\\t\".join(languages))\n",
        "print(\"-----------------------------------------------------------------------\")\n",
        "\n",
        "for size in file_sizes:\n",
        "    execution_times = []\n",
        "    for lang in languages:\n",
        "        execution_time = measure_execution_time(size)\n",
        "        execution_times.append(execution_time)\n",
        "\n",
        "    execution_times_str = \"\\t\\t\".join([str(time) for time in execution_times])\n",
        "    print(f\"{size}MB\\t|\\t{execution_times_str}\")"
      ]
    }
  ]
}